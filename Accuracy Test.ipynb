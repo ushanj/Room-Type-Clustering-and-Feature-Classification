{
 "cells": [
  {
   "cell_type": "code",
   "execution_count": 1,
   "id": "4d6cddb0",
   "metadata": {},
   "outputs": [],
   "source": [
    "import pandas as pd\n",
    "import numpy as np"
   ]
  },
  {
   "cell_type": "code",
   "execution_count": 53,
   "id": "00757e20",
   "metadata": {},
   "outputs": [],
   "source": [
    "df = pd.read_csv(\"Niranjani_test_set_Level_2.csv\")"
   ]
  },
  {
   "cell_type": "code",
   "execution_count": 54,
   "id": "17907a0a",
   "metadata": {
    "scrolled": true
   },
   "outputs": [
    {
     "data": {
      "text/html": [
       "<div>\n",
       "<style scoped>\n",
       "    .dataframe tbody tr th:only-of-type {\n",
       "        vertical-align: middle;\n",
       "    }\n",
       "\n",
       "    .dataframe tbody tr th {\n",
       "        vertical-align: top;\n",
       "    }\n",
       "\n",
       "    .dataframe thead th {\n",
       "        text-align: right;\n",
       "    }\n",
       "</style>\n",
       "<table border=\"1\" class=\"dataframe\">\n",
       "  <thead>\n",
       "    <tr style=\"text-align: right;\">\n",
       "      <th></th>\n",
       "      <th>Unnamed: 0</th>\n",
       "      <th>Vervotech ID</th>\n",
       "      <th>HotelBeds RoomName</th>\n",
       "      <th>ngrams</th>\n",
       "      <th>bed_count</th>\n",
       "      <th>bed_size</th>\n",
       "      <th>room_style</th>\n",
       "      <th>no_of_people</th>\n",
       "      <th>Label</th>\n",
       "      <th>Remarks</th>\n",
       "      <th>Label_level2</th>\n",
       "      <th>Remarks_level2</th>\n",
       "    </tr>\n",
       "  </thead>\n",
       "  <tbody>\n",
       "    <tr>\n",
       "      <th>0</th>\n",
       "      <td>0</td>\n",
       "      <td>15780037</td>\n",
       "      <td>Premier Skyline View Room, 2 Queen Beds</td>\n",
       "      <td>['Premier', 'Skyline', 'View', 'Room,', '2', '...</td>\n",
       "      <td>2</td>\n",
       "      <td>Queen</td>\n",
       "      <td>Premier</td>\n",
       "      <td>4</td>\n",
       "      <td>-1.0</td>\n",
       "      <td>2 queen bed can accommodate 4 people</td>\n",
       "      <td>NaN</td>\n",
       "      <td>NaN</td>\n",
       "    </tr>\n",
       "    <tr>\n",
       "      <th>1</th>\n",
       "      <td>1</td>\n",
       "      <td>15780037</td>\n",
       "      <td>Premier Skyline View Room, King Bed</td>\n",
       "      <td>['Premier', 'Skyline', 'View', 'Room,', 'King'...</td>\n",
       "      <td>1</td>\n",
       "      <td>King</td>\n",
       "      <td>Premier</td>\n",
       "      <td>2</td>\n",
       "      <td>-1.0</td>\n",
       "      <td>no. of people should be 2</td>\n",
       "      <td>NaN</td>\n",
       "      <td>NaN</td>\n",
       "    </tr>\n",
       "    <tr>\n",
       "      <th>2</th>\n",
       "      <td>2</td>\n",
       "      <td>15780037</td>\n",
       "      <td>QUADRUPLE Accessible</td>\n",
       "      <td>['Quadruple', 'Accessible', 'Quadruple Accessi...</td>\n",
       "      <td>2</td>\n",
       "      <td>NaN</td>\n",
       "      <td>Quadruple</td>\n",
       "      <td>4</td>\n",
       "      <td>-1.0</td>\n",
       "      <td>Bed size cannot be single, if it accommadate f...</td>\n",
       "      <td>-1.0</td>\n",
       "      <td>bed size is blank</td>\n",
       "    </tr>\n",
       "    <tr>\n",
       "      <th>3</th>\n",
       "      <td>3</td>\n",
       "      <td>15780037</td>\n",
       "      <td>Room RUN OF HOUSE</td>\n",
       "      <td>['Room', 'Run', 'Of', 'House', 'Room Run', 'Ru...</td>\n",
       "      <td>1</td>\n",
       "      <td>NaN</td>\n",
       "      <td>NaN</td>\n",
       "      <td>1</td>\n",
       "      <td>NaN</td>\n",
       "      <td>NaN</td>\n",
       "      <td>-1.0</td>\n",
       "      <td>bed size and room style blank</td>\n",
       "    </tr>\n",
       "    <tr>\n",
       "      <th>4</th>\n",
       "      <td>4</td>\n",
       "      <td>15780037</td>\n",
       "      <td>SUITE STANDARD</td>\n",
       "      <td>['Suite', 'Standard', 'Suite Standard']</td>\n",
       "      <td>1</td>\n",
       "      <td>King</td>\n",
       "      <td>Suite</td>\n",
       "      <td>2</td>\n",
       "      <td>0.0</td>\n",
       "      <td>suites normaly with king/queen/double/twon bed...</td>\n",
       "      <td>NaN</td>\n",
       "      <td>NaN</td>\n",
       "    </tr>\n",
       "  </tbody>\n",
       "</table>\n",
       "</div>"
      ],
      "text/plain": [
       "   Unnamed: 0  Vervotech ID                       HotelBeds RoomName  \\\n",
       "0           0      15780037  Premier Skyline View Room, 2 Queen Beds   \n",
       "1           1      15780037      Premier Skyline View Room, King Bed   \n",
       "2           2      15780037                     QUADRUPLE Accessible   \n",
       "3           3      15780037                        Room RUN OF HOUSE   \n",
       "4           4      15780037                           SUITE STANDARD   \n",
       "\n",
       "                                              ngrams  bed_count bed_size  \\\n",
       "0  ['Premier', 'Skyline', 'View', 'Room,', '2', '...          2    Queen   \n",
       "1  ['Premier', 'Skyline', 'View', 'Room,', 'King'...          1     King   \n",
       "2  ['Quadruple', 'Accessible', 'Quadruple Accessi...          2      NaN   \n",
       "3  ['Room', 'Run', 'Of', 'House', 'Room Run', 'Ru...          1      NaN   \n",
       "4            ['Suite', 'Standard', 'Suite Standard']          1     King   \n",
       "\n",
       "  room_style  no_of_people  Label  \\\n",
       "0    Premier             4   -1.0   \n",
       "1    Premier             2   -1.0   \n",
       "2  Quadruple             4   -1.0   \n",
       "3        NaN             1    NaN   \n",
       "4      Suite             2    0.0   \n",
       "\n",
       "                                             Remarks  Label_level2  \\\n",
       "0               2 queen bed can accommodate 4 people           NaN   \n",
       "1                          no. of people should be 2           NaN   \n",
       "2  Bed size cannot be single, if it accommadate f...          -1.0   \n",
       "3                                                NaN          -1.0   \n",
       "4  suites normaly with king/queen/double/twon bed...           NaN   \n",
       "\n",
       "                  Remarks_level2  \n",
       "0                            NaN  \n",
       "1                            NaN  \n",
       "2              bed size is blank  \n",
       "3  bed size and room style blank  \n",
       "4                            NaN  "
      ]
     },
     "execution_count": 54,
     "metadata": {},
     "output_type": "execute_result"
    }
   ],
   "source": [
    "df.head()"
   ]
  },
  {
   "cell_type": "code",
   "execution_count": 55,
   "id": "216cff6e",
   "metadata": {},
   "outputs": [
    {
     "name": "stdout",
     "output_type": "stream",
     "text": [
      "<class 'pandas.core.frame.DataFrame'>\n",
      "RangeIndex: 100 entries, 0 to 99\n",
      "Data columns (total 12 columns):\n",
      " #   Column              Non-Null Count  Dtype  \n",
      "---  ------              --------------  -----  \n",
      " 0   Unnamed: 0          100 non-null    int64  \n",
      " 1   Vervotech ID        100 non-null    int64  \n",
      " 2   HotelBeds RoomName  100 non-null    object \n",
      " 3   ngrams              100 non-null    object \n",
      " 4   bed_count           100 non-null    int64  \n",
      " 5   bed_size            95 non-null     object \n",
      " 6   room_style          84 non-null     object \n",
      " 7   no_of_people        100 non-null    int64  \n",
      " 8   Label               64 non-null     float64\n",
      " 9   Remarks             64 non-null     object \n",
      " 10  Label_level2        17 non-null     float64\n",
      " 11  Remarks_level2      17 non-null     object \n",
      "dtypes: float64(2), int64(4), object(6)\n",
      "memory usage: 9.5+ KB\n"
     ]
    }
   ],
   "source": [
    "df.info()"
   ]
  },
  {
   "cell_type": "code",
   "execution_count": 56,
   "id": "7773f0b0",
   "metadata": {},
   "outputs": [
    {
     "data": {
      "text/plain": [
       "array([nan, -1.])"
      ]
     },
     "execution_count": 56,
     "metadata": {},
     "output_type": "execute_result"
    }
   ],
   "source": [
    "df['Label_level2'].unique()"
   ]
  },
  {
   "cell_type": "code",
   "execution_count": 57,
   "id": "d815b7fd",
   "metadata": {},
   "outputs": [],
   "source": [
    "# df = df.dropna(subset=['bed_size', 'room_style'])\n",
    "# df['Label_level2'].unique()"
   ]
  },
  {
   "cell_type": "code",
   "execution_count": 58,
   "id": "6b8e0a54",
   "metadata": {},
   "outputs": [
    {
     "name": "stdout",
     "output_type": "stream",
     "text": [
      "Number of records in the DataFrame: 95\n",
      "12\n",
      "Accuracy :  87.36842105263158\n",
      "Number of records in the DataFrame: 84\n",
      "1\n",
      "Accuracy :  98.80952380952381\n",
      "Number of records in the DataFrame: 83\n",
      "0\n",
      "Accuracy :  100.0\n"
     ]
    }
   ],
   "source": [
    "df1 = df.dropna(subset=['bed_size'])\n",
    "count = df1[df1['Label_level2'] == -1].shape[0]\n",
    "print(\"Number of records in the DataFrame:\", df1.shape[0])\n",
    "print(count)\n",
    "print(\"Accuracy : \", 100 -(count/df1.shape[0])*100 )\n",
    "\n",
    "df2 = df.dropna(subset=['room_style'])\n",
    "count = df2[df2['Label_level2'] == -1].shape[0]\n",
    "print(\"Number of records in the DataFrame:\", df2.shape[0])\n",
    "print(count)\n",
    "print(\"Accuracy : \", 100 -(count/df2.shape[0])*100 )\n",
    "\n",
    "df3 = df.dropna(subset=['bed_size','room_style'])\n",
    "count = df3[df3['Label_level2'] == -1].shape[0]\n",
    "print(\"Number of records in the DataFrame:\", df3.shape[0])\n",
    "print(count)\n",
    "print(\"Accuracy : \", 100 -(count/df3.shape[0])*100 )"
   ]
  },
  {
   "cell_type": "code",
   "execution_count": 21,
   "id": "1eeda34e",
   "metadata": {},
   "outputs": [
    {
     "name": "stdout",
     "output_type": "stream",
     "text": [
      "1\n"
     ]
    }
   ],
   "source": []
  },
  {
   "cell_type": "code",
   "execution_count": 22,
   "id": "f6808d43",
   "metadata": {},
   "outputs": [
    {
     "name": "stdout",
     "output_type": "stream",
     "text": [
      "0\n"
     ]
    }
   ],
   "source": []
  },
  {
   "cell_type": "code",
   "execution_count": 7,
   "id": "a3a2eb58",
   "metadata": {},
   "outputs": [],
   "source": [
    "count = df[df['Label_level2'] == -1].shape[0]"
   ]
  },
  {
   "cell_type": "code",
   "execution_count": 8,
   "id": "7d29b667",
   "metadata": {},
   "outputs": [
    {
     "data": {
      "text/plain": [
       "0"
      ]
     },
     "execution_count": 8,
     "metadata": {},
     "output_type": "execute_result"
    }
   ],
   "source": [
    "count"
   ]
  },
  {
   "cell_type": "code",
   "execution_count": 9,
   "id": "a0f45370",
   "metadata": {},
   "outputs": [
    {
     "data": {
      "text/plain": [
       "100"
      ]
     },
     "execution_count": 9,
     "metadata": {},
     "output_type": "execute_result"
    }
   ],
   "source": [
    "100 -count"
   ]
  },
  {
   "cell_type": "code",
   "execution_count": null,
   "id": "0e5c2ee3",
   "metadata": {},
   "outputs": [],
   "source": []
  },
  {
   "cell_type": "code",
   "execution_count": 10,
   "id": "f964b38e",
   "metadata": {},
   "outputs": [
    {
     "name": "stdout",
     "output_type": "stream",
     "text": [
      "-1 count: 42\n"
     ]
    }
   ],
   "source": [
    "count_minus_one = df['Label'].value_counts().get(-1, 0)\n",
    "\n",
    "\n",
    "print(\"-1 count:\", count_minus_one)"
   ]
  },
  {
   "cell_type": "code",
   "execution_count": 11,
   "id": "9d6ed339",
   "metadata": {},
   "outputs": [
    {
     "name": "stdout",
     "output_type": "stream",
     "text": [
      "-1 count: 0\n"
     ]
    }
   ],
   "source": [
    "count_minus_one = df['Label_level2'].value_counts().get(-1, 0)\n",
    "\n",
    "\n",
    "print(\"-1 count:\", count_minus_one)"
   ]
  },
  {
   "cell_type": "code",
   "execution_count": 10,
   "id": "51cfbaa6",
   "metadata": {},
   "outputs": [
    {
     "data": {
      "text/plain": [
       "83"
      ]
     },
     "execution_count": 10,
     "metadata": {},
     "output_type": "execute_result"
    }
   ],
   "source": [
    "100 -17"
   ]
  },
  {
   "cell_type": "code",
   "execution_count": null,
   "id": "013d52a5",
   "metadata": {},
   "outputs": [],
   "source": [
    "# Move \"Premium\" key word from bed_size to room_style.\n",
    "# Have null values in Room_style & bed_size"
   ]
  },
  {
   "cell_type": "code",
   "execution_count": null,
   "id": "20316aa3",
   "metadata": {},
   "outputs": [],
   "source": []
  },
  {
   "cell_type": "code",
   "execution_count": 43,
   "id": "ea3115f4",
   "metadata": {},
   "outputs": [],
   "source": [
    "df = pd.read_csv(\"Nileka_test_set_Level_2.csv\")"
   ]
  },
  {
   "cell_type": "code",
   "execution_count": 44,
   "id": "a7e0b598",
   "metadata": {},
   "outputs": [
    {
     "data": {
      "text/html": [
       "<div>\n",
       "<style scoped>\n",
       "    .dataframe tbody tr th:only-of-type {\n",
       "        vertical-align: middle;\n",
       "    }\n",
       "\n",
       "    .dataframe tbody tr th {\n",
       "        vertical-align: top;\n",
       "    }\n",
       "\n",
       "    .dataframe thead th {\n",
       "        text-align: right;\n",
       "    }\n",
       "</style>\n",
       "<table border=\"1\" class=\"dataframe\">\n",
       "  <thead>\n",
       "    <tr style=\"text-align: right;\">\n",
       "      <th></th>\n",
       "      <th>Unnamed: 0</th>\n",
       "      <th>Vervotech ID</th>\n",
       "      <th>HotelBeds RoomName</th>\n",
       "      <th>ngrams</th>\n",
       "      <th>bed_count</th>\n",
       "      <th>bed_size</th>\n",
       "      <th>room_style</th>\n",
       "      <th>no_of_people</th>\n",
       "      <th>Label</th>\n",
       "      <th>Remarks</th>\n",
       "      <th>Label2</th>\n",
       "      <th>Remarks2</th>\n",
       "    </tr>\n",
       "  </thead>\n",
       "  <tbody>\n",
       "    <tr>\n",
       "      <th>0</th>\n",
       "      <td>100</td>\n",
       "      <td>15570173</td>\n",
       "      <td>DOUBLE Accessible</td>\n",
       "      <td>['Double', 'Accessible', 'Double Accessible']</td>\n",
       "      <td>1</td>\n",
       "      <td>Double</td>\n",
       "      <td>Double</td>\n",
       "      <td>2</td>\n",
       "      <td>1</td>\n",
       "      <td>NaN</td>\n",
       "      <td>1</td>\n",
       "      <td>NaN</td>\n",
       "    </tr>\n",
       "    <tr>\n",
       "      <th>1</th>\n",
       "      <td>101</td>\n",
       "      <td>15570173</td>\n",
       "      <td>Room Accessible</td>\n",
       "      <td>['Room', 'Accessible', 'Room Accessible']</td>\n",
       "      <td>1</td>\n",
       "      <td>NaN</td>\n",
       "      <td>NaN</td>\n",
       "      <td>1</td>\n",
       "      <td>1</td>\n",
       "      <td>NaN</td>\n",
       "      <td>?</td>\n",
       "      <td>NaN</td>\n",
       "    </tr>\n",
       "    <tr>\n",
       "      <th>2</th>\n",
       "      <td>102</td>\n",
       "      <td>15570173</td>\n",
       "      <td>Room CLUB</td>\n",
       "      <td>['Room', 'Club', 'Room Club']</td>\n",
       "      <td>1</td>\n",
       "      <td>Queen</td>\n",
       "      <td>Club</td>\n",
       "      <td>2</td>\n",
       "      <td>-1</td>\n",
       "      <td>Club rooms have more benefits than standard rooms</td>\n",
       "      <td>0</td>\n",
       "      <td>How do we know its a queen bed?</td>\n",
       "    </tr>\n",
       "    <tr>\n",
       "      <th>3</th>\n",
       "      <td>103</td>\n",
       "      <td>15570173</td>\n",
       "      <td>DOUBLE CLUB</td>\n",
       "      <td>['Double', 'Club', 'Double Club']</td>\n",
       "      <td>1</td>\n",
       "      <td>Double</td>\n",
       "      <td>Club</td>\n",
       "      <td>2</td>\n",
       "      <td>-1</td>\n",
       "      <td>Club rooms have more benefits than double rooms</td>\n",
       "      <td>1</td>\n",
       "      <td>NaN</td>\n",
       "    </tr>\n",
       "    <tr>\n",
       "      <th>4</th>\n",
       "      <td>104</td>\n",
       "      <td>15570173</td>\n",
       "      <td>DOUBLE CLUB KING BED</td>\n",
       "      <td>['Double', 'Club', 'King', 'Bed', 'Double Club...</td>\n",
       "      <td>1</td>\n",
       "      <td>King</td>\n",
       "      <td>Club</td>\n",
       "      <td>2</td>\n",
       "      <td>-1</td>\n",
       "      <td>Club rooms have more benefits than double rooms</td>\n",
       "      <td>1</td>\n",
       "      <td>NaN</td>\n",
       "    </tr>\n",
       "    <tr>\n",
       "      <th>...</th>\n",
       "      <td>...</td>\n",
       "      <td>...</td>\n",
       "      <td>...</td>\n",
       "      <td>...</td>\n",
       "      <td>...</td>\n",
       "      <td>...</td>\n",
       "      <td>...</td>\n",
       "      <td>...</td>\n",
       "      <td>...</td>\n",
       "      <td>...</td>\n",
       "      <td>...</td>\n",
       "      <td>...</td>\n",
       "    </tr>\n",
       "    <tr>\n",
       "      <th>95</th>\n",
       "      <td>195</td>\n",
       "      <td>15570106</td>\n",
       "      <td>SUITE 2 BEDS</td>\n",
       "      <td>['Suite', '2', 'Beds', 'Suite 2', '2 Beds', 'S...</td>\n",
       "      <td>2</td>\n",
       "      <td>King</td>\n",
       "      <td>Suite</td>\n",
       "      <td>4</td>\n",
       "      <td>1</td>\n",
       "      <td>NaN</td>\n",
       "      <td>0</td>\n",
       "      <td>King or single?</td>\n",
       "    </tr>\n",
       "    <tr>\n",
       "      <th>96</th>\n",
       "      <td>196</td>\n",
       "      <td>15570106</td>\n",
       "      <td>SUITE 2 DOUBLE BEDS</td>\n",
       "      <td>['Suite', '2', 'Double', 'Beds', 'Suite 2', '2...</td>\n",
       "      <td>2</td>\n",
       "      <td>Double</td>\n",
       "      <td>Suite</td>\n",
       "      <td>4</td>\n",
       "      <td>0</td>\n",
       "      <td>Style = double suite? People = 4 since two dou...</td>\n",
       "      <td>1</td>\n",
       "      <td>NaN</td>\n",
       "    </tr>\n",
       "    <tr>\n",
       "      <th>97</th>\n",
       "      <td>197</td>\n",
       "      <td>15570106</td>\n",
       "      <td>SUITE 2 QUEEN BEDS NON SMOKING</td>\n",
       "      <td>['Suite', '2', 'Queen', 'Beds', 'Non', 'Smokin...</td>\n",
       "      <td>2</td>\n",
       "      <td>Queen</td>\n",
       "      <td>Suite</td>\n",
       "      <td>4</td>\n",
       "      <td>1</td>\n",
       "      <td>NaN</td>\n",
       "      <td>1</td>\n",
       "      <td>NaN</td>\n",
       "    </tr>\n",
       "    <tr>\n",
       "      <th>98</th>\n",
       "      <td>198</td>\n",
       "      <td>16115140</td>\n",
       "      <td>DOUBLE QUEEN SIZE BED</td>\n",
       "      <td>['Double', 'Queen', 'Size', 'Bed', 'Double Que...</td>\n",
       "      <td>1</td>\n",
       "      <td>Queen</td>\n",
       "      <td>Double</td>\n",
       "      <td>2</td>\n",
       "      <td>1</td>\n",
       "      <td>NaN</td>\n",
       "      <td>1</td>\n",
       "      <td>NaN</td>\n",
       "    </tr>\n",
       "    <tr>\n",
       "      <th>99</th>\n",
       "      <td>199</td>\n",
       "      <td>16039310</td>\n",
       "      <td>1 King Bed, No Smoking</td>\n",
       "      <td>['1', 'King', 'Bed,', 'No', 'Smoking', '1 King...</td>\n",
       "      <td>1</td>\n",
       "      <td>King</td>\n",
       "      <td>NaN</td>\n",
       "      <td>2</td>\n",
       "      <td>1</td>\n",
       "      <td>NaN</td>\n",
       "      <td>?</td>\n",
       "      <td>People = 1</td>\n",
       "    </tr>\n",
       "  </tbody>\n",
       "</table>\n",
       "<p>100 rows × 12 columns</p>\n",
       "</div>"
      ],
      "text/plain": [
       "    Unnamed: 0  Vervotech ID              HotelBeds RoomName  \\\n",
       "0          100      15570173               DOUBLE Accessible   \n",
       "1          101      15570173                 Room Accessible   \n",
       "2          102      15570173                       Room CLUB   \n",
       "3          103      15570173                     DOUBLE CLUB   \n",
       "4          104      15570173            DOUBLE CLUB KING BED   \n",
       "..         ...           ...                             ...   \n",
       "95         195      15570106                    SUITE 2 BEDS   \n",
       "96         196      15570106             SUITE 2 DOUBLE BEDS   \n",
       "97         197      15570106  SUITE 2 QUEEN BEDS NON SMOKING   \n",
       "98         198      16115140           DOUBLE QUEEN SIZE BED   \n",
       "99         199      16039310          1 King Bed, No Smoking   \n",
       "\n",
       "                                               ngrams  bed_count bed_size  \\\n",
       "0       ['Double', 'Accessible', 'Double Accessible']          1   Double   \n",
       "1           ['Room', 'Accessible', 'Room Accessible']          1      NaN   \n",
       "2                       ['Room', 'Club', 'Room Club']          1    Queen   \n",
       "3                   ['Double', 'Club', 'Double Club']          1   Double   \n",
       "4   ['Double', 'Club', 'King', 'Bed', 'Double Club...          1     King   \n",
       "..                                                ...        ...      ...   \n",
       "95  ['Suite', '2', 'Beds', 'Suite 2', '2 Beds', 'S...          2     King   \n",
       "96  ['Suite', '2', 'Double', 'Beds', 'Suite 2', '2...          2   Double   \n",
       "97  ['Suite', '2', 'Queen', 'Beds', 'Non', 'Smokin...          2    Queen   \n",
       "98  ['Double', 'Queen', 'Size', 'Bed', 'Double Que...          1    Queen   \n",
       "99  ['1', 'King', 'Bed,', 'No', 'Smoking', '1 King...          1     King   \n",
       "\n",
       "   room_style  no_of_people Label  \\\n",
       "0      Double             2     1   \n",
       "1         NaN             1     1   \n",
       "2        Club             2    -1   \n",
       "3        Club             2    -1   \n",
       "4        Club             2    -1   \n",
       "..        ...           ...   ...   \n",
       "95      Suite             4     1   \n",
       "96      Suite             4     0   \n",
       "97      Suite             4     1   \n",
       "98     Double             2     1   \n",
       "99        NaN             2     1   \n",
       "\n",
       "                                              Remarks Label2  \\\n",
       "0                                                 NaN      1   \n",
       "1                                                 NaN      ?   \n",
       "2   Club rooms have more benefits than standard rooms      0   \n",
       "3     Club rooms have more benefits than double rooms      1   \n",
       "4     Club rooms have more benefits than double rooms      1   \n",
       "..                                                ...    ...   \n",
       "95                                                NaN      0   \n",
       "96  Style = double suite? People = 4 since two dou...      1   \n",
       "97                                                NaN      1   \n",
       "98                                                NaN      1   \n",
       "99                                                NaN      ?   \n",
       "\n",
       "                           Remarks2  \n",
       "0                               NaN  \n",
       "1                               NaN  \n",
       "2   How do we know its a queen bed?  \n",
       "3                               NaN  \n",
       "4                               NaN  \n",
       "..                              ...  \n",
       "95                 King or single?   \n",
       "96                              NaN  \n",
       "97                              NaN  \n",
       "98                              NaN  \n",
       "99                       People = 1  \n",
       "\n",
       "[100 rows x 12 columns]"
      ]
     },
     "execution_count": 44,
     "metadata": {},
     "output_type": "execute_result"
    }
   ],
   "source": [
    "df"
   ]
  },
  {
   "cell_type": "code",
   "execution_count": 45,
   "id": "588bd850",
   "metadata": {},
   "outputs": [
    {
     "data": {
      "text/plain": [
       "array(['1', '?', '0', '-1', nan], dtype=object)"
      ]
     },
     "execution_count": 45,
     "metadata": {},
     "output_type": "execute_result"
    }
   ],
   "source": [
    "df['Label2'].unique()"
   ]
  },
  {
   "cell_type": "code",
   "execution_count": 46,
   "id": "d444f41a",
   "metadata": {},
   "outputs": [
    {
     "name": "stdout",
     "output_type": "stream",
     "text": [
      "Number of records in the DataFrame: 93\n",
      "0\n",
      "Accuracy :  100.0\n",
      "Number of records in the DataFrame: 82\n",
      "0\n",
      "Accuracy :  100.0\n",
      "Number of records in the DataFrame: 80\n",
      "0\n",
      "Accuracy :  100.0\n"
     ]
    }
   ],
   "source": [
    "df1 = df.dropna(subset=['bed_size'])\n",
    "count = df1[df1['Label2'] == -1].shape[0]\n",
    "print(\"Number of records in the DataFrame:\", df1.shape[0])\n",
    "print(count)\n",
    "print(\"Accuracy : \", 100 -(count/df1.shape[0])*100 )\n",
    "\n",
    "df2 = df.dropna(subset=['room_style'])\n",
    "count = df2[df2['Label2'] == -1].shape[0]\n",
    "print(\"Number of records in the DataFrame:\", df2.shape[0])\n",
    "print(count)\n",
    "print(\"Accuracy : \", 100 -(count/df2.shape[0])*100 )\n",
    "\n",
    "df3 = df.dropna(subset=['bed_size','room_style'])\n",
    "count = df3[df3['Label2'] == -1].shape[0]\n",
    "print(\"Number of records in the DataFrame:\", df3.shape[0])\n",
    "print(count)\n",
    "print(\"Accuracy : \", 100 -(count/df3.shape[0])*100 )"
   ]
  },
  {
   "cell_type": "code",
   "execution_count": null,
   "id": "a62172ab",
   "metadata": {},
   "outputs": [],
   "source": []
  },
  {
   "cell_type": "code",
   "execution_count": 76,
   "id": "a1150703",
   "metadata": {},
   "outputs": [],
   "source": [
    "count = df[df['Label2'] == '-1'].shape[0]"
   ]
  },
  {
   "cell_type": "code",
   "execution_count": 77,
   "id": "7c327a36",
   "metadata": {},
   "outputs": [
    {
     "data": {
      "text/plain": [
       "6"
      ]
     },
     "execution_count": 77,
     "metadata": {},
     "output_type": "execute_result"
    }
   ],
   "source": [
    "count"
   ]
  },
  {
   "cell_type": "code",
   "execution_count": 79,
   "id": "8619f90e",
   "metadata": {},
   "outputs": [
    {
     "data": {
      "text/plain": [
       "94"
      ]
     },
     "execution_count": 79,
     "metadata": {},
     "output_type": "execute_result"
    }
   ],
   "source": [
    "100-6\n"
   ]
  },
  {
   "cell_type": "markdown",
   "id": "3237909c",
   "metadata": {},
   "source": []
  },
  {
   "cell_type": "code",
   "execution_count": 28,
   "id": "27e6502b",
   "metadata": {},
   "outputs": [],
   "source": [
    "df = pd.read_csv(\"Nuwan_test_set_Level_2.csv\")\n"
   ]
  },
  {
   "cell_type": "code",
   "execution_count": 29,
   "id": "989995db",
   "metadata": {},
   "outputs": [
    {
     "data": {
      "text/html": [
       "<div>\n",
       "<style scoped>\n",
       "    .dataframe tbody tr th:only-of-type {\n",
       "        vertical-align: middle;\n",
       "    }\n",
       "\n",
       "    .dataframe tbody tr th {\n",
       "        vertical-align: top;\n",
       "    }\n",
       "\n",
       "    .dataframe thead th {\n",
       "        text-align: right;\n",
       "    }\n",
       "</style>\n",
       "<table border=\"1\" class=\"dataframe\">\n",
       "  <thead>\n",
       "    <tr style=\"text-align: right;\">\n",
       "      <th></th>\n",
       "      <th>Unnamed: 0</th>\n",
       "      <th>Vervotech ID</th>\n",
       "      <th>HotelBeds RoomName</th>\n",
       "      <th>ngrams</th>\n",
       "      <th>bed_count</th>\n",
       "      <th>bed_size</th>\n",
       "      <th>room_style</th>\n",
       "      <th>no_of_people</th>\n",
       "      <th>Label</th>\n",
       "      <th>New Label</th>\n",
       "      <th>Remarks</th>\n",
       "      <th>Unnamed: 11</th>\n",
       "    </tr>\n",
       "  </thead>\n",
       "  <tbody>\n",
       "    <tr>\n",
       "      <th>0</th>\n",
       "      <td>300</td>\n",
       "      <td>38380068</td>\n",
       "      <td>DOUBLE KING BED NON SMOKING</td>\n",
       "      <td>['Double', 'King', 'Bed', 'Non', 'Smoking', 'D...</td>\n",
       "      <td>1</td>\n",
       "      <td>King</td>\n",
       "      <td>Double</td>\n",
       "      <td>2</td>\n",
       "      <td>1</td>\n",
       "      <td>NaN</td>\n",
       "      <td>NaN</td>\n",
       "      <td>NaN</td>\n",
       "    </tr>\n",
       "    <tr>\n",
       "      <th>1</th>\n",
       "      <td>301</td>\n",
       "      <td>38380068</td>\n",
       "      <td>DOUBLE Accessible KING SIZE BED</td>\n",
       "      <td>['Double', 'Accessible', 'King', 'Size', 'Bed'...</td>\n",
       "      <td>1</td>\n",
       "      <td>King</td>\n",
       "      <td>Double</td>\n",
       "      <td>2</td>\n",
       "      <td>1</td>\n",
       "      <td>NaN</td>\n",
       "      <td>NaN</td>\n",
       "      <td>NaN</td>\n",
       "    </tr>\n",
       "    <tr>\n",
       "      <th>2</th>\n",
       "      <td>302</td>\n",
       "      <td>38380068</td>\n",
       "      <td>Room Accessible KING SIZE BED</td>\n",
       "      <td>['Room', 'Accessible', 'King', 'Size', 'Bed', ...</td>\n",
       "      <td>1</td>\n",
       "      <td>King</td>\n",
       "      <td>NaN</td>\n",
       "      <td>2</td>\n",
       "      <td>1</td>\n",
       "      <td>-1.0</td>\n",
       "      <td>What are we going to do with blank room_style?</td>\n",
       "      <td>NaN</td>\n",
       "    </tr>\n",
       "    <tr>\n",
       "      <th>3</th>\n",
       "      <td>303</td>\n",
       "      <td>38380068</td>\n",
       "      <td>STANDARD ROOM</td>\n",
       "      <td>['Standard', 'Room', 'Standard Room']</td>\n",
       "      <td>1</td>\n",
       "      <td>King</td>\n",
       "      <td>Standard</td>\n",
       "      <td>2</td>\n",
       "      <td>1</td>\n",
       "      <td>NaN</td>\n",
       "      <td>NaN</td>\n",
       "      <td>NaN</td>\n",
       "    </tr>\n",
       "    <tr>\n",
       "      <th>4</th>\n",
       "      <td>304</td>\n",
       "      <td>38380068</td>\n",
       "      <td>TWIN KING SIZE BED</td>\n",
       "      <td>['Twin', 'King', 'Size', 'Bed', 'Twin King', '...</td>\n",
       "      <td>1</td>\n",
       "      <td>King</td>\n",
       "      <td>NaN</td>\n",
       "      <td>2</td>\n",
       "      <td>-1</td>\n",
       "      <td>NaN</td>\n",
       "      <td>2 people</td>\n",
       "      <td>NaN</td>\n",
       "    </tr>\n",
       "  </tbody>\n",
       "</table>\n",
       "</div>"
      ],
      "text/plain": [
       "   Unnamed: 0  Vervotech ID               HotelBeds RoomName  \\\n",
       "0         300      38380068      DOUBLE KING BED NON SMOKING   \n",
       "1         301      38380068  DOUBLE Accessible KING SIZE BED   \n",
       "2         302      38380068    Room Accessible KING SIZE BED   \n",
       "3         303      38380068                    STANDARD ROOM   \n",
       "4         304      38380068               TWIN KING SIZE BED   \n",
       "\n",
       "                                              ngrams  bed_count bed_size  \\\n",
       "0  ['Double', 'King', 'Bed', 'Non', 'Smoking', 'D...          1     King   \n",
       "1  ['Double', 'Accessible', 'King', 'Size', 'Bed'...          1     King   \n",
       "2  ['Room', 'Accessible', 'King', 'Size', 'Bed', ...          1     King   \n",
       "3              ['Standard', 'Room', 'Standard Room']          1     King   \n",
       "4  ['Twin', 'King', 'Size', 'Bed', 'Twin King', '...          1     King   \n",
       "\n",
       "  room_style  no_of_people Label  New Label  \\\n",
       "0     Double             2     1        NaN   \n",
       "1     Double             2     1        NaN   \n",
       "2        NaN             2     1       -1.0   \n",
       "3   Standard             2     1        NaN   \n",
       "4        NaN             2    -1        NaN   \n",
       "\n",
       "                                          Remarks Unnamed: 11  \n",
       "0                                             NaN         NaN  \n",
       "1                                             NaN         NaN  \n",
       "2  What are we going to do with blank room_style?         NaN  \n",
       "3                                             NaN         NaN  \n",
       "4                                        2 people         NaN  "
      ]
     },
     "execution_count": 29,
     "metadata": {},
     "output_type": "execute_result"
    }
   ],
   "source": [
    "df.head()"
   ]
  },
  {
   "cell_type": "code",
   "execution_count": 30,
   "id": "c51479bf",
   "metadata": {},
   "outputs": [
    {
     "data": {
      "text/plain": [
       "array(['1', '-1', '0', '?'], dtype=object)"
      ]
     },
     "execution_count": 30,
     "metadata": {},
     "output_type": "execute_result"
    }
   ],
   "source": [
    "df['Label'].unique()"
   ]
  },
  {
   "cell_type": "code",
   "execution_count": 31,
   "id": "97e7de2f",
   "metadata": {},
   "outputs": [
    {
     "data": {
      "text/plain": [
       "'-1'"
      ]
     },
     "execution_count": 31,
     "metadata": {},
     "output_type": "execute_result"
    }
   ],
   "source": [
    "df['Label'][4]"
   ]
  },
  {
   "cell_type": "code",
   "execution_count": 32,
   "id": "a1db1abe",
   "metadata": {},
   "outputs": [],
   "source": [
    "count = df[df['Label'] == '-1' ].shape[0]"
   ]
  },
  {
   "cell_type": "code",
   "execution_count": 33,
   "id": "5c74721c",
   "metadata": {},
   "outputs": [],
   "source": [
    "count = df[(df['Label'] == '-1') | (df['Label'] == '0')].shape[0]\n"
   ]
  },
  {
   "cell_type": "code",
   "execution_count": 34,
   "id": "ebd75b5e",
   "metadata": {},
   "outputs": [
    {
     "data": {
      "text/plain": [
       "45"
      ]
     },
     "execution_count": 34,
     "metadata": {},
     "output_type": "execute_result"
    }
   ],
   "source": [
    "100 -count"
   ]
  },
  {
   "cell_type": "code",
   "execution_count": 42,
   "id": "3c775ba6",
   "metadata": {},
   "outputs": [
    {
     "name": "stdout",
     "output_type": "stream",
     "text": [
      "Number of records in the DataFrame: 89\n",
      "19\n",
      "Accuracy :  78.65168539325843\n",
      "Number of records in the DataFrame: 83\n",
      "17\n",
      "Accuracy :  79.51807228915663\n",
      "Number of records in the DataFrame: 83\n",
      "17\n",
      "Accuracy :  79.51807228915663\n"
     ]
    }
   ],
   "source": [
    "df1 = df.dropna(subset=['bed_size'])\n",
    "count = df1[df1['New Label'] == -1].shape[0]\n",
    "print(\"Number of records in the DataFrame:\", df1.shape[0])\n",
    "print(count)\n",
    "print(\"Accuracy : \", 100 -(count/df1.shape[0])*100 )\n",
    "\n",
    "df2 = df.dropna(subset=['room_style'])\n",
    "count = df2[df2['New Label'] == -1].shape[0]\n",
    "print(\"Number of records in the DataFrame:\", df2.shape[0])\n",
    "print(count)\n",
    "print(\"Accuracy : \", 100 -(count/df2.shape[0])*100 )\n",
    "\n",
    "df3 = df.dropna(subset=['bed_size','room_style'])\n",
    "count = df3[df3['New Label'] == -1].shape[0]\n",
    "print(\"Number of records in the DataFrame:\", df3.shape[0])\n",
    "print(count)\n",
    "print(\"Accuracy : \", 100 -(count/df3.shape[0])*100 )"
   ]
  },
  {
   "cell_type": "code",
   "execution_count": null,
   "id": "be9ad3e6",
   "metadata": {},
   "outputs": [],
   "source": [
    "89"
   ]
  },
  {
   "cell_type": "code",
   "execution_count": 99,
   "id": "4831c81c",
   "metadata": {},
   "outputs": [],
   "source": [
    "df = pd.read_csv(\"saumya_test_set_Updated.csv\")"
   ]
  },
  {
   "cell_type": "code",
   "execution_count": 100,
   "id": "83aa28b6",
   "metadata": {},
   "outputs": [
    {
     "data": {
      "text/html": [
       "<div>\n",
       "<style scoped>\n",
       "    .dataframe tbody tr th:only-of-type {\n",
       "        vertical-align: middle;\n",
       "    }\n",
       "\n",
       "    .dataframe tbody tr th {\n",
       "        vertical-align: top;\n",
       "    }\n",
       "\n",
       "    .dataframe thead th {\n",
       "        text-align: right;\n",
       "    }\n",
       "</style>\n",
       "<table border=\"1\" class=\"dataframe\">\n",
       "  <thead>\n",
       "    <tr style=\"text-align: right;\">\n",
       "      <th></th>\n",
       "      <th>Unnamed: 0</th>\n",
       "      <th>room_type</th>\n",
       "      <th>ngrams</th>\n",
       "      <th>bed_count</th>\n",
       "      <th>bed_size</th>\n",
       "      <th>room_style</th>\n",
       "      <th>Vevotech Naming</th>\n",
       "      <th>hotelRoomType</th>\n",
       "      <th>no_of_person</th>\n",
       "      <th>Unnamed: 9</th>\n",
       "      <th>Unnamed: 10</th>\n",
       "      <th>Label</th>\n",
       "      <th>Remarks</th>\n",
       "    </tr>\n",
       "  </thead>\n",
       "  <tbody>\n",
       "    <tr>\n",
       "      <th>0</th>\n",
       "      <td>300</td>\n",
       "      <td>1  King Bed, Nonsmoking</td>\n",
       "      <td>['1', 'King', 'Bed,', 'Nonsmoking', '1 King', ...</td>\n",
       "      <td>1</td>\n",
       "      <td>King</td>\n",
       "      <td>Standard</td>\n",
       "      <td>King Room</td>\n",
       "      <td>1  King Bed, Nonsmoking</td>\n",
       "      <td>1</td>\n",
       "      <td>NaN</td>\n",
       "      <td>NaN</td>\n",
       "      <td>-1.0</td>\n",
       "      <td>no. of ppl should be 2</td>\n",
       "    </tr>\n",
       "    <tr>\n",
       "      <th>1</th>\n",
       "      <td>301</td>\n",
       "      <td>Room Standard</td>\n",
       "      <td>['Room', 'Standard', 'Room Standard']</td>\n",
       "      <td>1</td>\n",
       "      <td>Single</td>\n",
       "      <td>Standard</td>\n",
       "      <td>King Room</td>\n",
       "      <td>Room Standard</td>\n",
       "      <td>1</td>\n",
       "      <td>NaN</td>\n",
       "      <td>NaN</td>\n",
       "      <td>0.0</td>\n",
       "      <td>NaN</td>\n",
       "    </tr>\n",
       "    <tr>\n",
       "      <th>2</th>\n",
       "      <td>302</td>\n",
       "      <td>1  King Bed, No Smoking, Accessible Room</td>\n",
       "      <td>['1', 'King', 'Bed,', 'No', 'Smoking,', 'Acces...</td>\n",
       "      <td>1</td>\n",
       "      <td>King</td>\n",
       "      <td>Standard</td>\n",
       "      <td>King Room, Accessible</td>\n",
       "      <td>1  King Bed, No Smoking, Accessible Room</td>\n",
       "      <td>1</td>\n",
       "      <td>NaN</td>\n",
       "      <td>NaN</td>\n",
       "      <td>-1.0</td>\n",
       "      <td>no. of ppl should be 2</td>\n",
       "    </tr>\n",
       "    <tr>\n",
       "      <th>3</th>\n",
       "      <td>303</td>\n",
       "      <td>Double Accessible King Size Bed</td>\n",
       "      <td>['Double', 'Accessible', 'King', 'Size', 'Bed'...</td>\n",
       "      <td>1</td>\n",
       "      <td>King</td>\n",
       "      <td>Double</td>\n",
       "      <td>King Room, Accessible</td>\n",
       "      <td>Double Accessible King Size Bed</td>\n",
       "      <td>2</td>\n",
       "      <td>NaN</td>\n",
       "      <td>NaN</td>\n",
       "      <td>0.0</td>\n",
       "      <td>NaN</td>\n",
       "    </tr>\n",
       "    <tr>\n",
       "      <th>4</th>\n",
       "      <td>304</td>\n",
       "      <td>2  Queen Beds, No Smoking</td>\n",
       "      <td>['2', 'Queen', 'Beds,', 'No', 'Smoking', '2 Qu...</td>\n",
       "      <td>2</td>\n",
       "      <td>Queen</td>\n",
       "      <td>Standard</td>\n",
       "      <td>Room - 2 Queen</td>\n",
       "      <td>2  Queen Beds, No Smoking</td>\n",
       "      <td>2</td>\n",
       "      <td>NaN</td>\n",
       "      <td>NaN</td>\n",
       "      <td>-1.0</td>\n",
       "      <td>2 queen beds can accommodate 4 ppl</td>\n",
       "    </tr>\n",
       "    <tr>\n",
       "      <th>...</th>\n",
       "      <td>...</td>\n",
       "      <td>...</td>\n",
       "      <td>...</td>\n",
       "      <td>...</td>\n",
       "      <td>...</td>\n",
       "      <td>...</td>\n",
       "      <td>...</td>\n",
       "      <td>...</td>\n",
       "      <td>...</td>\n",
       "      <td>...</td>\n",
       "      <td>...</td>\n",
       "      <td>...</td>\n",
       "      <td>...</td>\n",
       "    </tr>\n",
       "    <tr>\n",
       "      <th>95</th>\n",
       "      <td>395</td>\n",
       "      <td>Double Executive  2  Double Beds</td>\n",
       "      <td>['Double', 'Executive', '2', 'Double', 'Beds',...</td>\n",
       "      <td>2</td>\n",
       "      <td>Single</td>\n",
       "      <td>Double</td>\n",
       "      <td>Executive, 2 Double</td>\n",
       "      <td>Double Executive  2  Double Beds</td>\n",
       "      <td>2</td>\n",
       "      <td>NaN</td>\n",
       "      <td>NaN</td>\n",
       "      <td>0.0</td>\n",
       "      <td>NaN</td>\n",
       "    </tr>\n",
       "    <tr>\n",
       "      <th>96</th>\n",
       "      <td>396</td>\n",
       "      <td>1  King Bed Executive Nonsmoking</td>\n",
       "      <td>['1', 'King', 'Bed', 'Executive', 'Nonsmoking'...</td>\n",
       "      <td>1</td>\n",
       "      <td>King</td>\n",
       "      <td>Standard</td>\n",
       "      <td>Executive, King</td>\n",
       "      <td>1  King Bed Executive Nonsmoking</td>\n",
       "      <td>1</td>\n",
       "      <td>NaN</td>\n",
       "      <td>NaN</td>\n",
       "      <td>-1.0</td>\n",
       "      <td>no. of ppl should be 2</td>\n",
       "    </tr>\n",
       "    <tr>\n",
       "      <th>97</th>\n",
       "      <td>397</td>\n",
       "      <td>Quadruple Executive  2  Double Beds</td>\n",
       "      <td>['Quadruple', 'Executive', '2', 'Double', 'Bed...</td>\n",
       "      <td>2</td>\n",
       "      <td>Single</td>\n",
       "      <td>Double</td>\n",
       "      <td>Executive, Quadruple</td>\n",
       "      <td>Quadruple Executive  2  Double Beds</td>\n",
       "      <td>2</td>\n",
       "      <td>NaN</td>\n",
       "      <td>NaN</td>\n",
       "      <td>-1.0</td>\n",
       "      <td>2 Quadruple can accommodate 4 ppl</td>\n",
       "    </tr>\n",
       "    <tr>\n",
       "      <th>98</th>\n",
       "      <td>398</td>\n",
       "      <td>1  Kng Bed Leisure Nonsmoking</td>\n",
       "      <td>['1', 'Kng', 'Bed', 'Leisure', 'Nonsmoking', '...</td>\n",
       "      <td>1</td>\n",
       "      <td>Single</td>\n",
       "      <td>Leisure</td>\n",
       "      <td>King Room</td>\n",
       "      <td>1  Kng Bed Leisure Nonsmoking</td>\n",
       "      <td>1</td>\n",
       "      <td>NaN</td>\n",
       "      <td>NaN</td>\n",
       "      <td>-1.0</td>\n",
       "      <td>no. of ppl should be 2</td>\n",
       "    </tr>\n",
       "    <tr>\n",
       "      <th>99</th>\n",
       "      <td>399</td>\n",
       "      <td>Double King Size Bed</td>\n",
       "      <td>['Double', 'King', 'Size', 'Bed', 'Double King...</td>\n",
       "      <td>1</td>\n",
       "      <td>King</td>\n",
       "      <td>Double</td>\n",
       "      <td>King Room</td>\n",
       "      <td>Double King Size Bed</td>\n",
       "      <td>2</td>\n",
       "      <td>NaN</td>\n",
       "      <td>NaN</td>\n",
       "      <td>0.0</td>\n",
       "      <td>NaN</td>\n",
       "    </tr>\n",
       "  </tbody>\n",
       "</table>\n",
       "<p>100 rows × 13 columns</p>\n",
       "</div>"
      ],
      "text/plain": [
       "    Unnamed: 0                                  room_type  \\\n",
       "0          300                    1  King Bed, Nonsmoking   \n",
       "1          301                              Room Standard   \n",
       "2          302   1  King Bed, No Smoking, Accessible Room   \n",
       "3          303            Double Accessible King Size Bed   \n",
       "4          304                  2  Queen Beds, No Smoking   \n",
       "..         ...                                        ...   \n",
       "95         395           Double Executive  2  Double Beds   \n",
       "96         396           1  King Bed Executive Nonsmoking   \n",
       "97         397        Quadruple Executive  2  Double Beds   \n",
       "98         398              1  Kng Bed Leisure Nonsmoking   \n",
       "99         399                       Double King Size Bed   \n",
       "\n",
       "                                               ngrams bed_count bed_size  \\\n",
       "0   ['1', 'King', 'Bed,', 'Nonsmoking', '1 King', ...         1     King   \n",
       "1               ['Room', 'Standard', 'Room Standard']         1   Single   \n",
       "2   ['1', 'King', 'Bed,', 'No', 'Smoking,', 'Acces...         1     King   \n",
       "3   ['Double', 'Accessible', 'King', 'Size', 'Bed'...         1     King   \n",
       "4   ['2', 'Queen', 'Beds,', 'No', 'Smoking', '2 Qu...         2    Queen   \n",
       "..                                                ...       ...      ...   \n",
       "95  ['Double', 'Executive', '2', 'Double', 'Beds',...         2   Single   \n",
       "96  ['1', 'King', 'Bed', 'Executive', 'Nonsmoking'...         1     King   \n",
       "97  ['Quadruple', 'Executive', '2', 'Double', 'Bed...         2   Single   \n",
       "98  ['1', 'Kng', 'Bed', 'Leisure', 'Nonsmoking', '...         1   Single   \n",
       "99  ['Double', 'King', 'Size', 'Bed', 'Double King...         1     King   \n",
       "\n",
       "   room_style        Vevotech Naming  \\\n",
       "0    Standard              King Room   \n",
       "1    Standard              King Room   \n",
       "2    Standard  King Room, Accessible   \n",
       "3      Double  King Room, Accessible   \n",
       "4    Standard         Room - 2 Queen   \n",
       "..        ...                    ...   \n",
       "95     Double    Executive, 2 Double   \n",
       "96   Standard        Executive, King   \n",
       "97     Double   Executive, Quadruple   \n",
       "98    Leisure              King Room   \n",
       "99     Double              King Room   \n",
       "\n",
       "                                hotelRoomType no_of_person Unnamed: 9  \\\n",
       "0                     1  King Bed, Nonsmoking            1        NaN   \n",
       "1                               Room Standard            1        NaN   \n",
       "2    1  King Bed, No Smoking, Accessible Room            1        NaN   \n",
       "3             Double Accessible King Size Bed            2        NaN   \n",
       "4                   2  Queen Beds, No Smoking            2        NaN   \n",
       "..                                        ...          ...        ...   \n",
       "95           Double Executive  2  Double Beds            2        NaN   \n",
       "96           1  King Bed Executive Nonsmoking            1        NaN   \n",
       "97        Quadruple Executive  2  Double Beds            2        NaN   \n",
       "98              1  Kng Bed Leisure Nonsmoking            1        NaN   \n",
       "99                       Double King Size Bed            2        NaN   \n",
       "\n",
       "    Unnamed: 10  Label                             Remarks  \n",
       "0           NaN   -1.0              no. of ppl should be 2  \n",
       "1           NaN    0.0                                 NaN  \n",
       "2           NaN   -1.0              no. of ppl should be 2  \n",
       "3           NaN    0.0                                 NaN  \n",
       "4           NaN   -1.0  2 queen beds can accommodate 4 ppl  \n",
       "..          ...    ...                                 ...  \n",
       "95          NaN    0.0                                 NaN  \n",
       "96          NaN   -1.0              no. of ppl should be 2  \n",
       "97          NaN   -1.0   2 Quadruple can accommodate 4 ppl  \n",
       "98          NaN   -1.0              no. of ppl should be 2  \n",
       "99          NaN    0.0                                 NaN  \n",
       "\n",
       "[100 rows x 13 columns]"
      ]
     },
     "execution_count": 100,
     "metadata": {},
     "output_type": "execute_result"
    }
   ],
   "source": [
    "df"
   ]
  },
  {
   "cell_type": "code",
   "execution_count": 104,
   "id": "3008b6c3",
   "metadata": {},
   "outputs": [
    {
     "data": {
      "text/plain": [
       "-1.0"
      ]
     },
     "execution_count": 104,
     "metadata": {},
     "output_type": "execute_result"
    }
   ],
   "source": [
    "df['Label'][0]"
   ]
  },
  {
   "cell_type": "code",
   "execution_count": 106,
   "id": "29e867f1",
   "metadata": {},
   "outputs": [],
   "source": [
    "count = df[df['Label'] == -1 ].shape[0]"
   ]
  },
  {
   "cell_type": "code",
   "execution_count": 109,
   "id": "09eff860",
   "metadata": {},
   "outputs": [
    {
     "data": {
      "text/plain": [
       "38"
      ]
     },
     "execution_count": 109,
     "metadata": {},
     "output_type": "execute_result"
    }
   ],
   "source": [
    "100 - 62"
   ]
  },
  {
   "cell_type": "code",
   "execution_count": null,
   "id": "2487bc40",
   "metadata": {},
   "outputs": [],
   "source": []
  }
 ],
 "metadata": {
  "kernelspec": {
   "display_name": "Python 3 (ipykernel)",
   "language": "python",
   "name": "python3"
  },
  "language_info": {
   "codemirror_mode": {
    "name": "ipython",
    "version": 3
   },
   "file_extension": ".py",
   "mimetype": "text/x-python",
   "name": "python",
   "nbconvert_exporter": "python",
   "pygments_lexer": "ipython3",
   "version": "3.9.13"
  },
  "varInspector": {
   "cols": {
    "lenName": 16,
    "lenType": 16,
    "lenVar": 40
   },
   "kernels_config": {
    "python": {
     "delete_cmd_postfix": "",
     "delete_cmd_prefix": "del ",
     "library": "var_list.py",
     "varRefreshCmd": "print(var_dic_list())"
    },
    "r": {
     "delete_cmd_postfix": ") ",
     "delete_cmd_prefix": "rm(",
     "library": "var_list.r",
     "varRefreshCmd": "cat(var_dic_list()) "
    }
   },
   "types_to_exclude": [
    "module",
    "function",
    "builtin_function_or_method",
    "instance",
    "_Feature"
   ],
   "window_display": false
  }
 },
 "nbformat": 4,
 "nbformat_minor": 5
}
